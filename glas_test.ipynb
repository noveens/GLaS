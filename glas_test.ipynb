{
 "cells": [
  {
   "cell_type": "markdown",
   "metadata": {},
   "source": [
    "## What do we want to do?\n",
    "\n",
    "#### Notation: \n",
    "- $\\mathbb{N}$: Number of training points\n",
    "- $\\mathbb{L}$: Number of labels\n",
    "- $BSZ$: Number of training points to load on GPU\n",
    "\n",
    "#### Input: \n",
    "- X features: $\\mathbb{X}_{i} ~ ~ \\forall i \\in \\{1, \\ldots, \\mathbb{N}\\}$\n",
    "- Correct label set: $\\mathbb{Y}_i ~ ~ \\forall i \\in \\{ 1, \\ldots, \\mathbb{N}\\}$\n",
    "\n",
    "#### Output: Learnt 1vA weights:\n",
    "- $\\mathbb{D}_{l} ~ ~ \\forall l \\in \\{1, \\ldots, \\mathbb{L}\\}$\n",
    "        \n",
    "#### Methodology:\n",
    "- Serialize all data\n",
    "    - $\\forall i \\in {1, \\ldots, \\mathbb{N}}$:\n",
    "        - $\\forall j \\in {1, \\ldots, Nonzero(\\mathbb{Y}_i})$:\n",
    "            - $FinalData$.add($\\{x_i, y_{i, j}\\}$)\n",
    "\n",
    "\n",
    "- GLaS regularizer preprocessing:\n",
    "    - Calculate $\\mathbb{G} \\leftarrow \\dfrac{AZ^{-1} + Z^{-1}A}{2}$ for all labels beforehand.\n",
    "    - Since some of the labels can have 0 occurances, we manually enforce the entire rows and cols in $\\mathbb{G}$ for all such labels to be 0\n",
    "\n",
    "\n",
    "- Training: \n",
    "    - Randomly Init $\\mathbb{D}_{l} ~ ~ \\forall l \\in \\mathbb{L}$ on GPU\n",
    "    - Transfer $\\mathbb{G}$ on GPU\n",
    "    \n",
    "    - Until convergence:\n",
    "        - Randomly shuffle $FinalData$ (To get different negatives)\n",
    "        - $\\forall i \\in \\{ 1, \\ldots, \\mathbb{N} ~ / ~ BSZ \\}$:\n",
    "            - $\\mathbb{X}_{Batch}, \\mathbb{Y}^{+}_{Batch}, \\mathbb{Y}^{-}_{Batch} \\ \\leftarrow loadBatch(i)$\n",
    "            - $\\hat{\\mathbb{Y}}_{Batch} \\leftarrow \\mathbb{D}_{Batch}^{T} \\cdot \\mathbb{X}_{Batch}$\n",
    "            - $\\mathbb{L}_{Batch} \\leftarrow RankingLoss(\\hat{\\mathbb{Y}}_{Batch}, \\mathbb{Y}^{+}_{Batch}, \\mathbb{Y}^{-}_{Batch}) + \\lambda \\cdot \\mathbb{L}_{GLaS}(\\mathbb{G}, \\mathbb{D})$\n",
    "            - $Backprop(\\mathbb{L}_{Batch})$\n",
    "\n",
    "\n",
    "- $loadBatch(i)$:\n",
    "    - $\\mathbb{X}_{Batch}, \\mathbb{Y}^{+}_{Batch} \\leftarrow FinalData[i : i+BSZ]$\n",
    "    - $\\mathbb{Y}_{temp} \\leftarrow \\bigcup{\\mathbb{Y}^{+}_{Batch}}$ // set\n",
    "    - $\\mathbb{Y}^{-}_{Batch} \\leftarrow [ ~ ]$ // list\n",
    "    - $\\forall i \\in \\{ 1, \\ldots, BSZ \\}$:\n",
    "        - $\\mathbb{Y}^{-}_{Batch}$.append($\\mathbb{Y}_{temp} - all\\_positives(\\mathbb{X}_{Batch}^{i})$)\n",
    "    - yeild $\\mathbb{X}_{Batch}, \\mathbb{Y}^{+}_{Batch}, \\mathbb{Y}^{-}_{Batch}$\n",
    "    \n",
    "    \n",
    "#### Results:\n",
    "- Eurlex-4k:"
   ]
  },
  {
   "cell_type": "code",
   "execution_count": 1,
   "metadata": {},
   "outputs": [],
   "source": [
    "import numpy as np\n",
    "import torch\n",
    "import os\n",
    "import gc\n",
    "import time\n",
    "import torch.nn as nn\n",
    "import torch.nn.functional as F\n",
    "from tqdm.notebook import tqdm\n",
    "from subprocess import PIPE, run\n",
    "from scipy.sparse import csr_matrix, csc_matrix\n",
    "from torch.autograd import Variable\n",
    "\n",
    "from utils import DataLoader, read_sparse"
   ]
  },
  {
   "cell_type": "code",
   "execution_count": 2,
   "metadata": {},
   "outputs": [],
   "source": [
    "dataset = \"EURLex-4K\"\n",
    "\n",
    "DATA_DIR = dataset + \"/\"\n",
    "train_features_file = DATA_DIR + \"trn_X_Xf.txt\"\n",
    "train_labels_file = DATA_DIR + \"trn_X_Y.txt\"\n",
    "test_features_file = DATA_DIR + \"tst_X_Xf.txt\"\n",
    "test_labels_file = DATA_DIR + \"tst_X_Y.txt\""
   ]
  },
  {
   "cell_type": "code",
   "execution_count": 3,
   "metadata": {},
   "outputs": [
    {
     "name": "stdout",
     "output_type": "stream",
     "text": [
      "Reading data files..\n",
      "2593\n",
      "24\n",
      "2074\n",
      "18\n"
     ]
    }
   ],
   "source": [
    "print(\"Reading data files..\")\n",
    "train_x = DataLoader(train_features_file, train_labels_file)\n",
    "num_train_points = train_x.num_points\n",
    "num_labels = train_x.num_labels\n",
    "vocab_x = train_x.num_words\n",
    "\n",
    "test_x = DataLoader(test_features_file, test_labels_file)\n",
    "num_test_points = test_x.num_points"
   ]
  },
  {
   "cell_type": "code",
   "execution_count": 4,
   "metadata": {},
   "outputs": [],
   "source": [
    "# Helper function\n",
    "def get_log_file_path(hyper_params):\n",
    "    log_file  = 'logs/stochastic_' + hyper_params['dataset']\n",
    "    log_file += '_embed_' + str(hyper_params['embedding_dim'])\n",
    "    log_file += '_bsz_' + str(hyper_params['num_data_to_load_on_GPU'])\n",
    "    log_file += '_lamda_' + str(hyper_params['lamda'])\n",
    "    log_file += '_dropout_' + str(hyper_params['dropout'])\n",
    "    log_file += '_lr_' + str(hyper_params['lr'])\n",
    "    log_file += '_tf_' + str(hyper_params['tf'])\n",
    "    log_file += '.txt'\n",
    "    \n",
    "    return log_file"
   ]
  },
  {
   "cell_type": "code",
   "execution_count": 5,
   "metadata": {},
   "outputs": [],
   "source": [
    "def get_metrics(score_indices, scores, train_file = False):\n",
    "    scores_new = scores.data.cpu().numpy().tolist()\n",
    "\n",
    "    score_indices_new = []\n",
    "    for i in range(score_indices.shape[0]): score_indices_new.append(score_indices[i].data.cpu().numpy().tolist())\n",
    "\n",
    "    # Save score matrix to file\n",
    "    out_str = str(scores.shape[0]) + \" \" + str(num_labels) + '\\n'\n",
    "    for point_num in range(len(scores)):\n",
    "        t1 = (list(map(str, score_indices_new[point_num])))\n",
    "        t2 = (list(map(str, scores_new[point_num])))\n",
    "        t3 = [ t1[i] + \":\" + t2[i] for i in range(len(t1)) ]\n",
    "        out_str += ' '.join(t3) + '\\n'\n",
    "    f = open(\"score_mat_new.txt\", \"w\")\n",
    "    f.write(out_str)\n",
    "    f.close()\n",
    "\n",
    "    # Compute metrics\n",
    "    if train_file == True: print(\"Computing train metrics..\")\n",
    "    else: print(\"Computing test metrics..\")\n",
    "\n",
    "    command = \"python ../../Slice/Tools/python/metrics/calc_metrics.py --score_file score_mat_new.txt --trn_X_Y \" \n",
    "    command += train_labels_file \n",
    "    \n",
    "    command += \" --tst_X_Y \"\n",
    "    if train_file == False: command += test_labels_file\n",
    "    else: command += train_labels_file\n",
    "    \n",
    "    if dataset in [ \"AmazonCat-13K\", \"AmazonTitles-300K\" ]: command += \" -A 0.6 -B 2.6\"\n",
    "    elif dataset in [ \"Wiki10\", \"Wiki-500K\", \"WikiTitles-500K\" ]: command += \" -A 0.5 -B 0.4\"\n",
    "    elif dataset in [ \"EURLex-4K\" ]: command += \" -A 0.55 -B 1.5\"\n",
    "\n",
    "    result = run(command, stdout=PIPE, stderr=PIPE, universal_newlines=True, shell=True)\n",
    "    \n",
    "    metrics = result.stdout\n",
    "    print(\"\\n\".join(metrics.split(\"\\n\")[1:3]), \"\\n\")\n",
    "    \n",
    "    return result.stdout\n",
    "    \n",
    "def evaluate(hyper_params, reader):\n",
    "    \n",
    "    # Initializing\n",
    "    score_indices = torch.cuda.LongTensor(num_test_points, hyper_params['num_to_save'])\n",
    "    scores = torch.cuda.FloatTensor(num_test_points, hyper_params['num_to_save'])\n",
    "\n",
    "    with torch.no_grad():\n",
    "        for x, offsets, tf, data_batch, bar in reader.iter_eval(\n",
    "            bsz = hyper_params['num_data_to_load_on_GPU'],\n",
    "            tf = hyper_params['tf']\n",
    "        ):\n",
    "\n",
    "            # Forward\n",
    "            scores_batch = model(x, offsets, tf)\n",
    "\n",
    "            # Storing top-k indices\n",
    "            vals, inds = torch.topk(scores_batch, k = hyper_params['num_to_save'], sorted = True)\n",
    "            scores[data_batch : data_batch + hyper_params['num_data_to_load_on_GPU'], :] = vals\n",
    "            score_indices[data_batch : data_batch + hyper_params['num_data_to_load_on_GPU'], :] = inds\n",
    "    \n",
    "    # Metrics\n",
    "    return get_metrics(score_indices, scores)"
   ]
  },
  {
   "cell_type": "code",
   "execution_count": 6,
   "metadata": {},
   "outputs": [],
   "source": [
    "def get_label_coocc(label_file):\n",
    "    [ rows, cols, data ], nr, nc = read_sparse(label_file, return_separate = True)\n",
    "    \n",
    "    # [ num_points x num_labels ]\n",
    "    matrix = csr_matrix((data, (rows, cols)), shape = (nr, nc), dtype = np.float32)\n",
    "    return (matrix.T @ matrix).todense()\n",
    "\n",
    "def get_G(train_labels_file):\n",
    "    # Computing label coocc\n",
    "    label_cooccurence = torch.cuda.FloatTensor(\n",
    "        get_label_coocc(train_labels_file)\n",
    "    )\n",
    "    num_labels = label_cooccurence.shape[1]\n",
    "    \n",
    "    # Getting zinv\n",
    "    diag = torch.diag(label_cooccurence)\n",
    "    diag[diag < 0.001] = 0.1 # For labels occuring zero times\n",
    "    inv_diag = 1.0 / diag\n",
    "    inv_diag[inv_diag > 1.0] = 0.0 # Setting labels occuring zero times to be zero\n",
    "    \n",
    "    ind = np.diag_indices(num_labels)\n",
    "    zinv = torch.zeros(num_labels, num_labels).cuda()\n",
    "    zinv[ind[0], ind[1]] = inv_diag # Will set only the diagonal\n",
    "\n",
    "    # Getting azinv\n",
    "    a_zinv = torch.matmul(label_cooccurence, zinv)\n",
    "\n",
    "    # Getting `G`\n",
    "    return Variable(0.5 * (a_zinv + a_zinv.t()), requires_grad = False)\n",
    "\n",
    "# Pre-computing `G` for all labels beforehand\n",
    "G = get_G(train_labels_file)\n",
    "\n",
    "def get_glass_reg(w_t, all_ys):    \n",
    "    global G\n",
    "    \n",
    "    # Normalize label embeddings to be unit norm \n",
    "    # since `G` has diagonal entries 1 (by construction)\n",
    "    # Shape of `w_t`: [ features x num_labels ]\n",
    "    w_t = w_t / torch.norm(w_t, dim = 0).unsqueeze(0)\n",
    "    \n",
    "    # Selecting only those labels which are active in this batch\n",
    "    w_t_batch = w_t[:, all_ys]\n",
    "    G_batch = G[all_ys, :][:, all_ys]\n",
    "    \n",
    "    glas  = torch.matmul(w_t_batch.t(), w_t_batch)\n",
    "    glas -= G_batch\n",
    "    \n",
    "    return torch.sum(glas ** 2) #/ (float(w_t_batch.shape[1]) ** 2)\n",
    "\n",
    "def compute_loss_multilabel(output, y, negs):\n",
    "    pos_scores = output.gather(-1, y).unsqueeze(1)\n",
    "    \n",
    "    # Padded elements in `negs` are padded with `num_labels`\n",
    "    # Pad last dimension with -INF so that padded elements in `y` get -INF\n",
    "    output = F.pad(output, pad=(0, 1), mode=\"constant\", value = -float(1e5))\n",
    "    neg_scores = output.gather(-1, negs).unsqueeze(-1)\n",
    "    output = output[:, :-1]\n",
    "    \n",
    "    # Since we have -INF for padded elements in `neg_scores`\n",
    "    # taking max with 0.0 would reduce them to zero\n",
    "    loss = torch.clamp(1.0 + neg_scores - pos_scores, min = 0.0)\n",
    "    \n",
    "    # shape of `loss` should be [bsz x neg x pos]\n",
    "    # We take sum for all pos, negs\n",
    "    return torch.mean(torch.sum(torch.sum(loss, -1), -1))"
   ]
  },
  {
   "cell_type": "code",
   "execution_count": null,
   "metadata": {
    "scrolled": true
   },
   "outputs": [
    {
     "name": "stdout",
     "output_type": "stream",
     "text": [
      "Training..\n",
      "Net(\n",
      "  (word_embedding_matrix): EmbeddingBag(5000, 1024, mode=sum)\n",
      "  (linear1): Linear(in_features=1024, out_features=1024, bias=True)\n",
      "  (linear2): Linear(in_features=1024, out_features=3993, bias=False)\n",
      "  (relu): ReLU()\n",
      ")\n",
      "Running epoch: 1\n"
     ]
    },
    {
     "data": {
      "application/vnd.jupyter.widget-view+json": {
       "model_id": "d487f9b4fb7142f1b73b670ff800083a",
       "version_major": 2,
       "version_minor": 0
      },
      "text/plain": [
       "HBox(children=(IntProgress(value=0, max=323), HTML(value='')))"
      ]
     },
     "metadata": {},
     "output_type": "display_data"
    },
    {
     "name": "stdout",
     "output_type": "stream",
     "text": [
      "\n"
     ]
    },
    {
     "data": {
      "application/vnd.jupyter.widget-view+json": {
       "model_id": "cd2bf0a346c743fb9e82577321c0aa00",
       "version_major": 2,
       "version_minor": 0
      },
      "text/plain": [
       "HBox(children=(IntProgress(value=0, max=15), HTML(value='')))"
      ]
     },
     "metadata": {},
     "output_type": "display_data"
    },
    {
     "name": "stdout",
     "output_type": "stream",
     "text": [
      "\n",
      "Computing test metrics..\n",
      "Pk:\t1: 40.98\t3: 32.00\t5: 26.40\n",
      "PSPk:\t1: 14.76\t3: 16.87\t5: 18.18 \n",
      "\n",
      "Running epoch: 2\n"
     ]
    },
    {
     "data": {
      "application/vnd.jupyter.widget-view+json": {
       "model_id": "0917f5a3aabf4508ba76b88257b37085",
       "version_major": 2,
       "version_minor": 0
      },
      "text/plain": [
       "HBox(children=(IntProgress(value=0, max=323), HTML(value='')))"
      ]
     },
     "metadata": {},
     "output_type": "display_data"
    },
    {
     "name": "stdout",
     "output_type": "stream",
     "text": [
      "\n"
     ]
    },
    {
     "data": {
      "application/vnd.jupyter.widget-view+json": {
       "model_id": "da64e844ea894b4dbb09e55e250b9cc9",
       "version_major": 2,
       "version_minor": 0
      },
      "text/plain": [
       "HBox(children=(IntProgress(value=0, max=15), HTML(value='')))"
      ]
     },
     "metadata": {},
     "output_type": "display_data"
    },
    {
     "name": "stdout",
     "output_type": "stream",
     "text": [
      "\n",
      "Computing test metrics..\n",
      "Pk:\t1: 49.44\t3: 38.93\t5: 32.09\n",
      "PSPk:\t1: 18.90\t3: 21.42\t5: 23.23 \n",
      "\n",
      "Running epoch: 3\n"
     ]
    },
    {
     "data": {
      "application/vnd.jupyter.widget-view+json": {
       "model_id": "2a851e9c735344a3817ad994c7da45b4",
       "version_major": 2,
       "version_minor": 0
      },
      "text/plain": [
       "HBox(children=(IntProgress(value=0, max=323), HTML(value='')))"
      ]
     },
     "metadata": {},
     "output_type": "display_data"
    },
    {
     "name": "stdout",
     "output_type": "stream",
     "text": [
      "\n"
     ]
    },
    {
     "data": {
      "application/vnd.jupyter.widget-view+json": {
       "model_id": "963f6d789501462cad35df54c3c3a141",
       "version_major": 2,
       "version_minor": 0
      },
      "text/plain": [
       "HBox(children=(IntProgress(value=0, max=15), HTML(value='')))"
      ]
     },
     "metadata": {},
     "output_type": "display_data"
    },
    {
     "name": "stdout",
     "output_type": "stream",
     "text": [
      "\n",
      "Computing test metrics..\n",
      "Pk:\t1: 54.71\t3: 42.36\t5: 34.53\n",
      "PSPk:\t1: 21.30\t3: 24.17\t5: 25.90 \n",
      "\n",
      "Running epoch: 4\n"
     ]
    },
    {
     "data": {
      "application/vnd.jupyter.widget-view+json": {
       "model_id": "f00b6eb27f424194b5a3f64aea72420d",
       "version_major": 2,
       "version_minor": 0
      },
      "text/plain": [
       "HBox(children=(IntProgress(value=0, max=323), HTML(value='')))"
      ]
     },
     "metadata": {},
     "output_type": "display_data"
    },
    {
     "name": "stdout",
     "output_type": "stream",
     "text": [
      "\n"
     ]
    },
    {
     "data": {
      "application/vnd.jupyter.widget-view+json": {
       "model_id": "ce1a610476a44d02867cf826374e43e2",
       "version_major": 2,
       "version_minor": 0
      },
      "text/plain": [
       "HBox(children=(IntProgress(value=0, max=15), HTML(value='')))"
      ]
     },
     "metadata": {},
     "output_type": "display_data"
    },
    {
     "name": "stdout",
     "output_type": "stream",
     "text": [
      "\n",
      "Computing test metrics..\n",
      "Pk:\t1: 58.20\t3: 45.42\t5: 37.24\n",
      "PSPk:\t1: 23.20\t3: 26.46\t5: 28.46 \n",
      "\n",
      "Running epoch: 5\n"
     ]
    },
    {
     "data": {
      "application/vnd.jupyter.widget-view+json": {
       "model_id": "3f8df6fcb1db45c895582acb26f10e52",
       "version_major": 2,
       "version_minor": 0
      },
      "text/plain": [
       "HBox(children=(IntProgress(value=0, max=323), HTML(value='')))"
      ]
     },
     "metadata": {},
     "output_type": "display_data"
    },
    {
     "name": "stdout",
     "output_type": "stream",
     "text": [
      "\n"
     ]
    },
    {
     "data": {
      "application/vnd.jupyter.widget-view+json": {
       "model_id": "c4f3c5250c164bc697f1e0762dc96a7f",
       "version_major": 2,
       "version_minor": 0
      },
      "text/plain": [
       "HBox(children=(IntProgress(value=0, max=15), HTML(value='')))"
      ]
     },
     "metadata": {},
     "output_type": "display_data"
    },
    {
     "name": "stdout",
     "output_type": "stream",
     "text": [
      "\n",
      "Computing test metrics..\n",
      "Pk:\t1: 60.09\t3: 46.79\t5: 38.25\n",
      "PSPk:\t1: 24.12\t3: 27.52\t5: 29.54 \n",
      "\n",
      "Running epoch: 6\n"
     ]
    },
    {
     "data": {
      "application/vnd.jupyter.widget-view+json": {
       "model_id": "483d7edb0fe34c3eba14822f43f183a0",
       "version_major": 2,
       "version_minor": 0
      },
      "text/plain": [
       "HBox(children=(IntProgress(value=0, max=323), HTML(value='')))"
      ]
     },
     "metadata": {},
     "output_type": "display_data"
    },
    {
     "name": "stdout",
     "output_type": "stream",
     "text": [
      "\n"
     ]
    },
    {
     "data": {
      "application/vnd.jupyter.widget-view+json": {
       "model_id": "846f8d93c3a64b15b2c3681968232425",
       "version_major": 2,
       "version_minor": 0
      },
      "text/plain": [
       "HBox(children=(IntProgress(value=0, max=15), HTML(value='')))"
      ]
     },
     "metadata": {},
     "output_type": "display_data"
    },
    {
     "name": "stdout",
     "output_type": "stream",
     "text": [
      "\n",
      "Computing test metrics..\n",
      "Pk:\t1: 60.70\t3: 47.88\t5: 38.93\n",
      "PSPk:\t1: 24.75\t3: 28.57\t5: 30.62 \n",
      "\n",
      "Running epoch: 7\n"
     ]
    },
    {
     "data": {
      "application/vnd.jupyter.widget-view+json": {
       "model_id": "d98eb0164a8049b582454d0a3eaa12a1",
       "version_major": 2,
       "version_minor": 0
      },
      "text/plain": [
       "HBox(children=(IntProgress(value=0, max=323), HTML(value='')))"
      ]
     },
     "metadata": {},
     "output_type": "display_data"
    },
    {
     "name": "stdout",
     "output_type": "stream",
     "text": [
      "\n"
     ]
    },
    {
     "data": {
      "application/vnd.jupyter.widget-view+json": {
       "model_id": "0ed935fef8a14bd7a1f861603fb0c854",
       "version_major": 2,
       "version_minor": 0
      },
      "text/plain": [
       "HBox(children=(IntProgress(value=0, max=15), HTML(value='')))"
      ]
     },
     "metadata": {},
     "output_type": "display_data"
    },
    {
     "name": "stdout",
     "output_type": "stream",
     "text": [
      "\n",
      "Computing test metrics..\n",
      "Pk:\t1: 61.77\t3: 48.43\t5: 39.89\n",
      "PSPk:\t1: 25.10\t3: 28.91\t5: 31.50 \n",
      "\n",
      "Running epoch: 8\n"
     ]
    },
    {
     "data": {
      "application/vnd.jupyter.widget-view+json": {
       "model_id": "dd5eef7fa69c4ef2b8b30b11fd838e96",
       "version_major": 2,
       "version_minor": 0
      },
      "text/plain": [
       "HBox(children=(IntProgress(value=0, max=323), HTML(value='')))"
      ]
     },
     "metadata": {},
     "output_type": "display_data"
    },
    {
     "name": "stdout",
     "output_type": "stream",
     "text": [
      "\n"
     ]
    },
    {
     "data": {
      "application/vnd.jupyter.widget-view+json": {
       "model_id": "7b31d158dc714ab5990a44d6fb2d1c1e",
       "version_major": 2,
       "version_minor": 0
      },
      "text/plain": [
       "HBox(children=(IntProgress(value=0, max=15), HTML(value='')))"
      ]
     },
     "metadata": {},
     "output_type": "display_data"
    },
    {
     "name": "stdout",
     "output_type": "stream",
     "text": [
      "\n",
      "Computing test metrics..\n",
      "Pk:\t1: 63.53\t3: 49.70\t5: 40.54\n",
      "PSPk:\t1: 26.15\t3: 30.17\t5: 32.39 \n",
      "\n",
      "Running epoch: 9\n"
     ]
    },
    {
     "data": {
      "application/vnd.jupyter.widget-view+json": {
       "model_id": "11cb289877b04b00ae4ef11a90a33e89",
       "version_major": 2,
       "version_minor": 0
      },
      "text/plain": [
       "HBox(children=(IntProgress(value=0, max=323), HTML(value='')))"
      ]
     },
     "metadata": {},
     "output_type": "display_data"
    },
    {
     "name": "stdout",
     "output_type": "stream",
     "text": [
      "\n"
     ]
    },
    {
     "data": {
      "application/vnd.jupyter.widget-view+json": {
       "model_id": "886b194aeae34617880222e8debbf38a",
       "version_major": 2,
       "version_minor": 0
      },
      "text/plain": [
       "HBox(children=(IntProgress(value=0, max=15), HTML(value='')))"
      ]
     },
     "metadata": {},
     "output_type": "display_data"
    },
    {
     "name": "stdout",
     "output_type": "stream",
     "text": [
      "\n",
      "Computing test metrics..\n",
      "Pk:\t1: 63.61\t3: 49.68\t5: 40.65\n",
      "PSPk:\t1: 26.40\t3: 30.40\t5: 32.64 \n",
      "\n",
      "Running epoch: 10\n"
     ]
    },
    {
     "data": {
      "application/vnd.jupyter.widget-view+json": {
       "model_id": "35341c03fdaf4be5ad9377805cfc05fb",
       "version_major": 2,
       "version_minor": 0
      },
      "text/plain": [
       "HBox(children=(IntProgress(value=0, max=323), HTML(value='')))"
      ]
     },
     "metadata": {},
     "output_type": "display_data"
    },
    {
     "name": "stdout",
     "output_type": "stream",
     "text": [
      "\n"
     ]
    },
    {
     "data": {
      "application/vnd.jupyter.widget-view+json": {
       "model_id": "2aa8376643244307bc082090eb9f4bc8",
       "version_major": 2,
       "version_minor": 0
      },
      "text/plain": [
       "HBox(children=(IntProgress(value=0, max=15), HTML(value='')))"
      ]
     },
     "metadata": {},
     "output_type": "display_data"
    },
    {
     "name": "stdout",
     "output_type": "stream",
     "text": [
      "\n",
      "Computing test metrics..\n",
      "Pk:\t1: 64.98\t3: 50.91\t5: 42.00\n",
      "PSPk:\t1: 26.99\t3: 31.32\t5: 33.83 \n",
      "\n",
      "Running epoch: 11\n"
     ]
    },
    {
     "data": {
      "application/vnd.jupyter.widget-view+json": {
       "model_id": "3d3c4882f1344f599bc948d2d943c37c",
       "version_major": 2,
       "version_minor": 0
      },
      "text/plain": [
       "HBox(children=(IntProgress(value=0, max=323), HTML(value='')))"
      ]
     },
     "metadata": {},
     "output_type": "display_data"
    },
    {
     "name": "stdout",
     "output_type": "stream",
     "text": [
      "\n"
     ]
    },
    {
     "data": {
      "application/vnd.jupyter.widget-view+json": {
       "model_id": "ff713c284cee43d5b5d223d61c9f6074",
       "version_major": 2,
       "version_minor": 0
      },
      "text/plain": [
       "HBox(children=(IntProgress(value=0, max=15), HTML(value='')))"
      ]
     },
     "metadata": {},
     "output_type": "display_data"
    },
    {
     "name": "stdout",
     "output_type": "stream",
     "text": [
      "\n",
      "Computing test metrics..\n",
      "Pk:\t1: 65.40\t3: 51.93\t5: 42.34\n",
      "PSPk:\t1: 27.26\t3: 31.93\t5: 34.29 \n",
      "\n",
      "Running epoch: 12\n"
     ]
    },
    {
     "data": {
      "application/vnd.jupyter.widget-view+json": {
       "model_id": "59d36d4e462343b38f395db715cb914a",
       "version_major": 2,
       "version_minor": 0
      },
      "text/plain": [
       "HBox(children=(IntProgress(value=0, max=323), HTML(value='')))"
      ]
     },
     "metadata": {},
     "output_type": "display_data"
    },
    {
     "name": "stdout",
     "output_type": "stream",
     "text": [
      "\n"
     ]
    },
    {
     "data": {
      "application/vnd.jupyter.widget-view+json": {
       "model_id": "942fb4fdd9a741769ee7e0c0d108a4ad",
       "version_major": 2,
       "version_minor": 0
      },
      "text/plain": [
       "HBox(children=(IntProgress(value=0, max=15), HTML(value='')))"
      ]
     },
     "metadata": {},
     "output_type": "display_data"
    },
    {
     "name": "stdout",
     "output_type": "stream",
     "text": [
      "\n",
      "Computing test metrics..\n",
      "Pk:\t1: 66.34\t3: 52.06\t5: 42.67\n",
      "PSPk:\t1: 27.74\t3: 32.10\t5: 34.63 \n",
      "\n",
      "Running epoch: 13\n"
     ]
    },
    {
     "data": {
      "application/vnd.jupyter.widget-view+json": {
       "model_id": "61baf837b3234c21b4dff8fec9ccb088",
       "version_major": 2,
       "version_minor": 0
      },
      "text/plain": [
       "HBox(children=(IntProgress(value=0, max=323), HTML(value='')))"
      ]
     },
     "metadata": {},
     "output_type": "display_data"
    },
    {
     "name": "stdout",
     "output_type": "stream",
     "text": [
      "\n"
     ]
    },
    {
     "data": {
      "application/vnd.jupyter.widget-view+json": {
       "model_id": "d1ee7a056a47486a8da74b19206e1dc1",
       "version_major": 2,
       "version_minor": 0
      },
      "text/plain": [
       "HBox(children=(IntProgress(value=0, max=15), HTML(value='')))"
      ]
     },
     "metadata": {},
     "output_type": "display_data"
    },
    {
     "name": "stdout",
     "output_type": "stream",
     "text": [
      "\n",
      "Computing test metrics..\n",
      "Pk:\t1: 66.71\t3: 52.59\t5: 43.11\n",
      "PSPk:\t1: 27.85\t3: 32.58\t5: 35.09 \n",
      "\n",
      "Running epoch: 14\n"
     ]
    },
    {
     "data": {
      "application/vnd.jupyter.widget-view+json": {
       "model_id": "1f34297e2b6944948313a12a8c2aa1c1",
       "version_major": 2,
       "version_minor": 0
      },
      "text/plain": [
       "HBox(children=(IntProgress(value=0, max=323), HTML(value='')))"
      ]
     },
     "metadata": {},
     "output_type": "display_data"
    },
    {
     "name": "stdout",
     "output_type": "stream",
     "text": [
      "\n"
     ]
    },
    {
     "data": {
      "application/vnd.jupyter.widget-view+json": {
       "model_id": "af00676bf7c040e28a1f2628b79ac190",
       "version_major": 2,
       "version_minor": 0
      },
      "text/plain": [
       "HBox(children=(IntProgress(value=0, max=15), HTML(value='')))"
      ]
     },
     "metadata": {},
     "output_type": "display_data"
    },
    {
     "name": "stdout",
     "output_type": "stream",
     "text": [
      "\n",
      "Computing test metrics..\n",
      "Pk:\t1: 65.61\t3: 52.65\t5: 43.48\n",
      "PSPk:\t1: 27.61\t3: 32.71\t5: 35.49 \n",
      "\n",
      "Running epoch: 15\n"
     ]
    },
    {
     "data": {
      "application/vnd.jupyter.widget-view+json": {
       "model_id": "68bb3d11714d4edba7059fe0cf0ba8a1",
       "version_major": 2,
       "version_minor": 0
      },
      "text/plain": [
       "HBox(children=(IntProgress(value=0, max=323), HTML(value='')))"
      ]
     },
     "metadata": {},
     "output_type": "display_data"
    },
    {
     "name": "stdout",
     "output_type": "stream",
     "text": [
      "\n"
     ]
    },
    {
     "data": {
      "application/vnd.jupyter.widget-view+json": {
       "model_id": "a33ab55d3d06490d90a88ba878e19b77",
       "version_major": 2,
       "version_minor": 0
      },
      "text/plain": [
       "HBox(children=(IntProgress(value=0, max=15), HTML(value='')))"
      ]
     },
     "metadata": {},
     "output_type": "display_data"
    },
    {
     "name": "stdout",
     "output_type": "stream",
     "text": [
      "\n",
      "Computing test metrics..\n",
      "Pk:\t1: 67.03\t3: 52.96\t5: 43.69\n",
      "PSPk:\t1: 27.92\t3: 32.79\t5: 35.65 \n",
      "\n",
      "Running epoch: 16\n"
     ]
    },
    {
     "data": {
      "application/vnd.jupyter.widget-view+json": {
       "model_id": "91cf9a1ebb234c68b70552ad47a0cfe7",
       "version_major": 2,
       "version_minor": 0
      },
      "text/plain": [
       "HBox(children=(IntProgress(value=0, max=323), HTML(value='')))"
      ]
     },
     "metadata": {},
     "output_type": "display_data"
    },
    {
     "name": "stdout",
     "output_type": "stream",
     "text": [
      "\n"
     ]
    },
    {
     "data": {
      "application/vnd.jupyter.widget-view+json": {
       "model_id": "e4a660f21bcb4559a9ed52d9239c64e2",
       "version_major": 2,
       "version_minor": 0
      },
      "text/plain": [
       "HBox(children=(IntProgress(value=0, max=15), HTML(value='')))"
      ]
     },
     "metadata": {},
     "output_type": "display_data"
    },
    {
     "name": "stdout",
     "output_type": "stream",
     "text": [
      "\n",
      "Computing test metrics..\n",
      "Pk:\t1: 67.60\t3: 53.50\t5: 43.83\n",
      "PSPk:\t1: 28.53\t3: 33.28\t5: 35.89 \n",
      "\n",
      "Running epoch: 17\n"
     ]
    },
    {
     "data": {
      "application/vnd.jupyter.widget-view+json": {
       "model_id": "c32c3ae2b7bd4170be846a7cdd9c5003",
       "version_major": 2,
       "version_minor": 0
      },
      "text/plain": [
       "HBox(children=(IntProgress(value=0, max=323), HTML(value='')))"
      ]
     },
     "metadata": {},
     "output_type": "display_data"
    },
    {
     "name": "stdout",
     "output_type": "stream",
     "text": [
      "\n"
     ]
    },
    {
     "data": {
      "application/vnd.jupyter.widget-view+json": {
       "model_id": "248eb85158544728ae274a04ee98c0af",
       "version_major": 2,
       "version_minor": 0
      },
      "text/plain": [
       "HBox(children=(IntProgress(value=0, max=15), HTML(value='')))"
      ]
     },
     "metadata": {},
     "output_type": "display_data"
    },
    {
     "name": "stdout",
     "output_type": "stream",
     "text": [
      "\n",
      "Computing test metrics..\n",
      "Pk:\t1: 67.47\t3: 53.57\t5: 44.30\n",
      "PSPk:\t1: 28.27\t3: 33.24\t5: 36.25 \n",
      "\n",
      "Running epoch: 18\n"
     ]
    },
    {
     "data": {
      "application/vnd.jupyter.widget-view+json": {
       "model_id": "203fbee3d19e4ba9bdd4651b6df191c3",
       "version_major": 2,
       "version_minor": 0
      },
      "text/plain": [
       "HBox(children=(IntProgress(value=0, max=323), HTML(value='')))"
      ]
     },
     "metadata": {},
     "output_type": "display_data"
    },
    {
     "name": "stdout",
     "output_type": "stream",
     "text": [
      "\n"
     ]
    },
    {
     "data": {
      "application/vnd.jupyter.widget-view+json": {
       "model_id": "d05ba4954734468cb344f6da0744fca3",
       "version_major": 2,
       "version_minor": 0
      },
      "text/plain": [
       "HBox(children=(IntProgress(value=0, max=15), HTML(value='')))"
      ]
     },
     "metadata": {},
     "output_type": "display_data"
    },
    {
     "name": "stdout",
     "output_type": "stream",
     "text": [
      "\n",
      "Computing test metrics..\n",
      "Pk:\t1: 67.29\t3: 53.57\t5: 43.76\n",
      "PSPk:\t1: 28.78\t3: 33.83\t5: 36.34 \n",
      "\n",
      "Running epoch: 19\n"
     ]
    },
    {
     "data": {
      "application/vnd.jupyter.widget-view+json": {
       "model_id": "daf1b085fa954669b82a0c7dbf4fa56c",
       "version_major": 2,
       "version_minor": 0
      },
      "text/plain": [
       "HBox(children=(IntProgress(value=0, max=323), HTML(value='')))"
      ]
     },
     "metadata": {},
     "output_type": "display_data"
    },
    {
     "name": "stdout",
     "output_type": "stream",
     "text": [
      "\n"
     ]
    },
    {
     "data": {
      "application/vnd.jupyter.widget-view+json": {
       "model_id": "662322ebb4a74b43ba4d847e43ccc248",
       "version_major": 2,
       "version_minor": 0
      },
      "text/plain": [
       "HBox(children=(IntProgress(value=0, max=15), HTML(value='')))"
      ]
     },
     "metadata": {},
     "output_type": "display_data"
    },
    {
     "name": "stdout",
     "output_type": "stream",
     "text": [
      "\n",
      "Computing test metrics..\n",
      "Pk:\t1: 68.65\t3: 54.43\t5: 44.48\n",
      "PSPk:\t1: 29.38\t3: 34.27\t5: 36.94 \n",
      "\n",
      "Running epoch: 20\n"
     ]
    },
    {
     "data": {
      "application/vnd.jupyter.widget-view+json": {
       "model_id": "c1e74eb9e3db4320be243bdaa3ae7ffa",
       "version_major": 2,
       "version_minor": 0
      },
      "text/plain": [
       "HBox(children=(IntProgress(value=0, max=323), HTML(value='')))"
      ]
     },
     "metadata": {},
     "output_type": "display_data"
    },
    {
     "name": "stdout",
     "output_type": "stream",
     "text": [
      "\n"
     ]
    },
    {
     "data": {
      "application/vnd.jupyter.widget-view+json": {
       "model_id": "819b294262aa4d35a45a31f07b84749a",
       "version_major": 2,
       "version_minor": 0
      },
      "text/plain": [
       "HBox(children=(IntProgress(value=0, max=15), HTML(value='')))"
      ]
     },
     "metadata": {},
     "output_type": "display_data"
    },
    {
     "name": "stdout",
     "output_type": "stream",
     "text": [
      "\n",
      "Computing test metrics..\n",
      "Pk:\t1: 68.65\t3: 54.34\t5: 44.45\n",
      "PSPk:\t1: 29.29\t3: 34.36\t5: 37.02 \n",
      "\n",
      "Running epoch: 21\n"
     ]
    },
    {
     "data": {
      "application/vnd.jupyter.widget-view+json": {
       "model_id": "c72c82ff1f314331ab96a6e466c92d08",
       "version_major": 2,
       "version_minor": 0
      },
      "text/plain": [
       "HBox(children=(IntProgress(value=0, max=323), HTML(value='')))"
      ]
     },
     "metadata": {},
     "output_type": "display_data"
    },
    {
     "name": "stdout",
     "output_type": "stream",
     "text": [
      "\n"
     ]
    },
    {
     "data": {
      "application/vnd.jupyter.widget-view+json": {
       "model_id": "a89dd1312d2644cd9bfce81786202568",
       "version_major": 2,
       "version_minor": 0
      },
      "text/plain": [
       "HBox(children=(IntProgress(value=0, max=15), HTML(value='')))"
      ]
     },
     "metadata": {},
     "output_type": "display_data"
    },
    {
     "name": "stdout",
     "output_type": "stream",
     "text": [
      "\n",
      "Computing test metrics..\n",
      "Pk:\t1: 68.15\t3: 54.48\t5: 44.93\n",
      "PSPk:\t1: 29.10\t3: 34.14\t5: 37.28 \n",
      "\n",
      "Running epoch: 22\n"
     ]
    },
    {
     "data": {
      "application/vnd.jupyter.widget-view+json": {
       "model_id": "98e2cea96b0f4cb1bb9f53c038f2346d",
       "version_major": 2,
       "version_minor": 0
      },
      "text/plain": [
       "HBox(children=(IntProgress(value=0, max=323), HTML(value='')))"
      ]
     },
     "metadata": {},
     "output_type": "display_data"
    }
   ],
   "source": [
    "hyper_params = {\n",
    "    'dataset': dataset,\n",
    "    \n",
    "    'num_data_to_load_on_GPU': int(256), # BSZ\n",
    "    'embedding_dim': 1024, # Word & label embedding dimension\n",
    "    'dropout': 0.2, # Word dropout\n",
    "    'tf': False, # Whether to use TF-IDF weighted sum of embeddings\n",
    "    \n",
    "    'num_to_save': 5, # These many predictions will be saved for computing metrics\n",
    "}\n",
    "\n",
    "class Net(nn.Module):\n",
    "    def __init__(self, hyper_params, vocab_x, num_labels):\n",
    "        super(Net, self).__init__()\n",
    "        \n",
    "        self.hyper_params = hyper_params\n",
    "        \n",
    "        self.word_embedding_matrix = nn.EmbeddingBag(\n",
    "            vocab_x, hyper_params['embedding_dim'], mode='sum', \n",
    "        )\n",
    "        nn.init.xavier_uniform_(self.word_embedding_matrix.weight.data)\n",
    "        \n",
    "        self.linear1 = nn.utils.weight_norm(\n",
    "            nn.Linear(hyper_params['embedding_dim'], hyper_params['embedding_dim']),\n",
    "            name = 'weight'\n",
    "        )\n",
    "        self.linear2 = nn.utils.weight_norm(\n",
    "            nn.Linear(hyper_params['embedding_dim'], num_labels, bias = False), \n",
    "            name = 'weight'\n",
    "        )\n",
    "        \n",
    "        nn.init.xavier_uniform_(self.linear1.weight.data)\n",
    "        nn.init.xavier_uniform_(self.linear2.weight.data)\n",
    "                \n",
    "        self.relu = nn.ReLU()\n",
    "        self.dropout_val = hyper_params['dropout']\n",
    "\n",
    "    def embed(self, x, offsets, tf):\n",
    "        if self.hyper_params['tf'] == True:\n",
    "            return self.word_embedding_matrix(x, offsets, per_sample_weights = tf)\n",
    "        \n",
    "        return self.word_embedding_matrix(x, offsets)\n",
    "        \n",
    "    def forward(self, x, offsets, tf):\n",
    "        # Get document embeddings\n",
    "        temp = self.relu(self.embed(x, offsets, tf)) # Non-linear\n",
    "        temp = self.linear1(temp) # Linear\n",
    "        \n",
    "        # Calculate scores\n",
    "        temp = self.linear2(temp)\n",
    "        \n",
    "        return temp\n",
    "\n",
    "print(\"Training..\")\n",
    "start_time = time.time()\n",
    "\n",
    "for bsz in [ 256 ]:\n",
    "    \n",
    "    hyper_params['num_data_to_load_on_GPU'] = bsz\n",
    "    \n",
    "    for tf in [ False, True ]:\n",
    "        \n",
    "        hyper_params['tf'] = tf\n",
    "        \n",
    "        if hyper_params['tf'] == True: hyper_params['lr'] = float(5e-5)\n",
    "        else: hyper_params['lr'] = float(1e-3)\n",
    "        \n",
    "        for lamda in [ 0.0, 1.0, 10.0, float(1e2), float(1e3) ]:\n",
    "            \n",
    "            hyper_params['lamda'] = lamda\n",
    "            \n",
    "            # Log file path\n",
    "            hyper_params['log_file'] = get_log_file_path(hyper_params)\n",
    "            \n",
    "            # Clear log file\n",
    "            f = open(hyper_params['log_file'], \"w\")\n",
    "            f.write(\"\")\n",
    "            f.close()\n",
    "            \n",
    "            # Initializing score matrices for metric computation\n",
    "            score_indices = torch.cuda.LongTensor(num_train_points, hyper_params['num_to_save'])\n",
    "            scores = torch.cuda.FloatTensor(num_train_points, hyper_params['num_to_save'])\n",
    "            \n",
    "            # Initializing model and optim.\n",
    "            model = Net(hyper_params, vocab_x, num_labels).cuda(); print(model)\n",
    "            optim = torch.optim.SGD(model.parameters(), lr = hyper_params['lr'], momentum=0.9)\n",
    "            crit  = compute_loss_multilabel\n",
    "            \n",
    "            # Training\n",
    "            for epoch in range(100):\n",
    "                hyper_params['epoch'] = epoch + 1\n",
    "                print(\"Running epoch:\", hyper_params['epoch'])\n",
    "\n",
    "                av_glass = 0.0; av_loss = 0.0; done = 0.0\n",
    "\n",
    "                for x, offsets, tf, y, all_ys, negs, pbar in train_x.iter(\n",
    "                    dropout = hyper_params['dropout'], \n",
    "                    bsz = hyper_params['num_data_to_load_on_GPU'],\n",
    "                    tf = hyper_params['tf']\n",
    "                ):\n",
    "\n",
    "                    # Forward pass\n",
    "                    scores_for_all_labels = model(x, offsets, tf)\n",
    "\n",
    "                    # Loss computation\n",
    "                    loss = crit(scores_for_all_labels, y, negs)\n",
    "                    glass_reg = get_glass_reg(model.linear2.weight.t(), all_ys)\n",
    "                    av_glass += float(glass_reg)\n",
    "                    loss += (lamda) * glass_reg\n",
    "\n",
    "                    # Backward & optimizing\n",
    "                    optim.zero_grad()\n",
    "                    loss.backward()\n",
    "                    optim.step()\n",
    "\n",
    "                    # Storing loss\n",
    "                    av_loss += float(loss.data); done += 1.0\n",
    "                    \n",
    "                    # Updating TQDM\n",
    "                    pbar.set_description(\n",
    "                        \"L: \" + str(lamda) + \\\n",
    "                        \", G: \" + str(round(av_glass / done, 4)) + \\\n",
    "                        \", Total: \" + str(round(av_loss / done, 4))\n",
    "                    )\n",
    "\n",
    "                # Computing metrics on test set at epoch end\n",
    "                with torch.no_grad(): metrics = evaluate(hyper_params, test_x)\n",
    "                \n",
    "                # Logging at epoch end\n",
    "                f = open(hyper_params['log_file'], \"a\")\n",
    "                f.write(\"Epoch #\" + str(hyper_params['epoch']) + \":\\n\")\n",
    "                f.write(\"Lamda:\" + str(lamda) + \", Glass: \" + str(round(av_glass / done, 4)) + \", Total loss: %8f\" % (av_loss / done) + \"\\n\")\n",
    "                f.write(metrics + \"\\n\")\n",
    "                f.close()"
   ]
  },
  {
   "cell_type": "code",
   "execution_count": 9,
   "metadata": {},
   "outputs": [
    {
     "ename": "FileNotFoundError",
     "evalue": "[Errno 2] No such file or directory: 'logs/stochastic_EURLex-4K_embed_1024_bsz_256_lamda_1000.0_dropout_0.2_lr_0.001_tf_False.txt'",
     "output_type": "error",
     "traceback": [
      "\u001b[0;31m---------------------------------------------------------------------------\u001b[0m",
      "\u001b[0;31mFileNotFoundError\u001b[0m                         Traceback (most recent call last)",
      "\u001b[0;32m<ipython-input-9-d0036c11cb18>\u001b[0m in \u001b[0;36m<module>\u001b[0;34m\u001b[0m\n\u001b[1;32m     36\u001b[0m \u001b[0;34m\u001b[0m\u001b[0m\n\u001b[1;32m     37\u001b[0m         \u001b[0mlog_file\u001b[0m \u001b[0;34m=\u001b[0m \u001b[0mget_log_file_path\u001b[0m\u001b[0;34m(\u001b[0m\u001b[0mhyper_params\u001b[0m\u001b[0;34m)\u001b[0m\u001b[0;34m\u001b[0m\u001b[0;34m\u001b[0m\u001b[0m\n\u001b[0;32m---> 38\u001b[0;31m         \u001b[0mf\u001b[0m \u001b[0;34m=\u001b[0m \u001b[0mopen\u001b[0m\u001b[0;34m(\u001b[0m\u001b[0mlog_file\u001b[0m\u001b[0;34m,\u001b[0m \u001b[0;34m\"r\"\u001b[0m\u001b[0;34m)\u001b[0m\u001b[0;34m\u001b[0m\u001b[0;34m\u001b[0m\u001b[0m\n\u001b[0m\u001b[1;32m     39\u001b[0m         \u001b[0mlines\u001b[0m \u001b[0;34m=\u001b[0m \u001b[0mf\u001b[0m\u001b[0;34m.\u001b[0m\u001b[0mreadlines\u001b[0m\u001b[0;34m(\u001b[0m\u001b[0;34m)\u001b[0m\u001b[0;34m\u001b[0m\u001b[0;34m\u001b[0m\u001b[0m\n\u001b[1;32m     40\u001b[0m         \u001b[0mf\u001b[0m\u001b[0;34m.\u001b[0m\u001b[0mclose\u001b[0m\u001b[0;34m(\u001b[0m\u001b[0;34m)\u001b[0m\u001b[0;34m\u001b[0m\u001b[0;34m\u001b[0m\u001b[0m\n",
      "\u001b[0;31mFileNotFoundError\u001b[0m: [Errno 2] No such file or directory: 'logs/stochastic_EURLex-4K_embed_1024_bsz_256_lamda_1000.0_dropout_0.2_lr_0.001_tf_False.txt'"
     ]
    },
    {
     "data": {
      "image/png": "[encoded data removed]",
      "text/plain": [
       "<Figure size 1296x1152 with 4 Axes>"
      ]
     },
     "metadata": {
      "needs_background": "light"
     },
     "output_type": "display_data"
    }
   ],
   "source": [
    "%matplotlib inline\n",
    "import matplotlib.pyplot as plt\n",
    "import matplotlib\n",
    "\n",
    "font = {\n",
    "    'family' : 'DejaVu Sans',\n",
    "    'weight' : 'normal',\n",
    "    'size'   : 26\n",
    "}\n",
    "\n",
    "matplotlib.rc('font', **font)\n",
    "\n",
    "metrics = [ 'Pk', 'PSPk' ]\n",
    "lamdas = [ 0.0, 1.0, 10.0, float(1e2), float(1e3) ]\n",
    "\n",
    "tf = False\n",
    "\n",
    "fig, plts = plt.subplots(2, 2, figsize = (18, 16))\n",
    "\n",
    "for at, tf in enumerate([ False, True ]):\n",
    "    \n",
    "    hyper_params['tf'] = tf\n",
    "    \n",
    "    x = []; y = {}\n",
    "    for m in metrics: y[m] = { '1': [], '3': [], '5': [] }\n",
    "        \n",
    "    plt = plts[at]\n",
    "    \n",
    "    for lamda in lamdas:\n",
    "        x.append(lamda + 1) # For when lamda = 0.0\n",
    "        \n",
    "        hyper_params['lamda'] = lamda\n",
    "\n",
    "        if tf == True: hyper_params['lr'] = float(5e-5)\n",
    "        else: hyper_params['lr'] = float(1e-3)\n",
    "\n",
    "        log_file = get_log_file_path(hyper_params)\n",
    "        f = open(log_file, \"r\")\n",
    "        lines = f.readlines()\n",
    "        f.close()\n",
    "\n",
    "        y_temp = {}\n",
    "        for m in metrics: y_temp[m] = { '1': [], '3': [], '5': [] }\n",
    "\n",
    "        for i in range(len(lines)):\n",
    "            line = lines[i].strip()\n",
    "\n",
    "            if line[:5] == \"Epoch\":\n",
    "\n",
    "                for j in range(i+3, i+9):\n",
    "\n",
    "                    line = lines[j].strip()\n",
    "\n",
    "                    if line.split(\":\")[0] in metrics:\n",
    "\n",
    "                        y_temp[line.split(\":\")[0]]['1'].append(\n",
    "                            float(line.split(\":\")[2].split()[0].strip())\n",
    "                        )\n",
    "                        y_temp[line.split(\":\")[0]]['3'].append(\n",
    "                            float(line.split(\":\")[3].split()[0].strip())\n",
    "                        )\n",
    "                        y_temp[line.split(\":\")[0]]['5'].append(\n",
    "                            float(line.split(\":\")[4].strip())\n",
    "                        )\n",
    "\n",
    "        for m in metrics:\n",
    "            try: y[m]['1'].append(max(y_temp[m]['1']))\n",
    "            except: y[m]['1'].append(0.0)\n",
    "                \n",
    "            try: y[m]['3'].append(max(y_temp[m]['3']))\n",
    "            except: y[m]['3'].append(0.0)\n",
    "                \n",
    "            try: y[m]['5'].append(max(y_temp[m]['5']))\n",
    "            except: y[m]['5'].append(0.0)\n",
    "\n",
    "    plt[0].plot(x, y['Pk']['1'])\n",
    "    plt[0].plot(x, y['Pk']['3'])\n",
    "    plt[0].plot(x, y['Pk']['5'])\n",
    "    plt[1].plot(x, y['PSPk']['1'])\n",
    "    plt[1].plot(x, y['PSPk']['3'])\n",
    "    plt[1].plot(x, y['PSPk']['5'])\n",
    "    \n",
    "    for i in range(2):\n",
    "        if at == 1: plt[i].set_xlabel(\"$\\lambda$\")\n",
    "        plt[i].set_xticks(x)\n",
    "        plt[i].set_xscale('log')\n",
    "        plt[i].set_title(\"TF-IDF = \" + str(tf))\n",
    "    plt[0].set_ylabel(\"P\")\n",
    "    plt[1].set_ylabel(\"PSP\")\n",
    "\n",
    "leg = [\"@1\", \"@3\", \"@5\"]\n",
    "fig.legend(leg, ncol = 3)\n",
    "fig.subplots_adjust(top = 0.9)\n",
    "\n",
    "fig.show()"
   ]
  },
  {
   "cell_type": "code",
   "execution_count": 10,
   "metadata": {},
   "outputs": [
    {
     "ename": "FileNotFoundError",
     "evalue": "[Errno 2] No such file or directory: 'logs/stochastic_EURLex-4K_embed_1024_bsz_256_lamda_1000.0_dropout_0.2_lr_0.001_tf_False.txt'",
     "output_type": "error",
     "traceback": [
      "\u001b[0;31m---------------------------------------------------------------------------\u001b[0m",
      "\u001b[0;31mFileNotFoundError\u001b[0m                         Traceback (most recent call last)",
      "\u001b[0;32m<ipython-input-10-b226574edb42>\u001b[0m in \u001b[0;36m<module>\u001b[0;34m\u001b[0m\n\u001b[1;32m     19\u001b[0m \u001b[0;34m\u001b[0m\u001b[0m\n\u001b[1;32m     20\u001b[0m         \u001b[0mlog_file\u001b[0m \u001b[0;34m=\u001b[0m \u001b[0mget_log_file_path\u001b[0m\u001b[0;34m(\u001b[0m\u001b[0mhyper_params\u001b[0m\u001b[0;34m)\u001b[0m\u001b[0;34m\u001b[0m\u001b[0;34m\u001b[0m\u001b[0m\n\u001b[0;32m---> 21\u001b[0;31m         \u001b[0mf\u001b[0m \u001b[0;34m=\u001b[0m \u001b[0mopen\u001b[0m\u001b[0;34m(\u001b[0m\u001b[0mlog_file\u001b[0m\u001b[0;34m,\u001b[0m \u001b[0;34m\"r\"\u001b[0m\u001b[0;34m)\u001b[0m\u001b[0;34m\u001b[0m\u001b[0;34m\u001b[0m\u001b[0m\n\u001b[0m\u001b[1;32m     22\u001b[0m         \u001b[0mlines\u001b[0m \u001b[0;34m=\u001b[0m \u001b[0mf\u001b[0m\u001b[0;34m.\u001b[0m\u001b[0mreadlines\u001b[0m\u001b[0;34m(\u001b[0m\u001b[0;34m)\u001b[0m\u001b[0;34m\u001b[0m\u001b[0;34m\u001b[0m\u001b[0m\n\u001b[1;32m     23\u001b[0m         \u001b[0mf\u001b[0m\u001b[0;34m.\u001b[0m\u001b[0mclose\u001b[0m\u001b[0;34m(\u001b[0m\u001b[0;34m)\u001b[0m\u001b[0;34m\u001b[0m\u001b[0;34m\u001b[0m\u001b[0m\n",
      "\u001b[0;31mFileNotFoundError\u001b[0m: [Errno 2] No such file or directory: 'logs/stochastic_EURLex-4K_embed_1024_bsz_256_lamda_1000.0_dropout_0.2_lr_0.001_tf_False.txt'"
     ]
    },
    {
     "data": {
      "image/png": "[encoded data removed]",
      "text/plain": [
       "<Figure size 1440x1440 with 20 Axes>"
      ]
     },
     "metadata": {
      "needs_background": "light"
     },
     "output_type": "display_data"
    }
   ],
   "source": [
    "%matplotlib inline\n",
    "import matplotlib.pyplot as plt\n",
    "\n",
    "metrics = [ 'Pk', 'PSPk' ]\n",
    "lamdas = [ 0.0, 1.0, 10.0, 100.0, float(1e3) ]\n",
    "\n",
    "fig, plts = plt.subplots(len(metrics) * 2, len(lamdas), figsize = (20, 20))\n",
    "\n",
    "for at_tf, tf in enumerate([ False, True ]):\n",
    "    \n",
    "    hyper_params['tf'] = tf\n",
    "    \n",
    "    for at2, lamda in enumerate(lamdas):\n",
    "        \n",
    "        hyper_params['lamda'] = lamda\n",
    "\n",
    "        if tf == True: hyper_params['lr'] = float(5e-5)\n",
    "        else: hyper_params['lr'] = float(1e-3)\n",
    "\n",
    "        log_file = get_log_file_path(hyper_params)\n",
    "        f = open(log_file, \"r\")\n",
    "        lines = f.readlines()\n",
    "        f.close()\n",
    "\n",
    "        x = []; y = {}\n",
    "        for m in metrics: y[m] = { '1': [], '3': [], '5': [] }\n",
    "\n",
    "        for i in range(len(lines)):\n",
    "            line = lines[i].strip()\n",
    "\n",
    "            if line[:5] == \"Epoch\":\n",
    "\n",
    "                check = False\n",
    "                for j in range(i+3, i+9):\n",
    "                        \n",
    "                    if j >= len(lines): continue\n",
    "                    line = lines[j].strip()\n",
    "\n",
    "                    if line.split(\":\")[0] in metrics:\n",
    "                        check = True\n",
    "\n",
    "                        y[line.split(\":\")[0]]['1'].append(\n",
    "                            float(line.split(\":\")[2].split()[0].strip())\n",
    "                        )\n",
    "                        y[line.split(\":\")[0]]['3'].append(\n",
    "                            float(line.split(\":\")[3].split()[0].strip())\n",
    "                        )\n",
    "                        y[line.split(\":\")[0]]['5'].append(\n",
    "                            float(line.split(\":\")[4].strip())\n",
    "                        )\n",
    "\n",
    "                if check == True: x.append(len(x) + 1)\n",
    "\n",
    "        for at, m in enumerate(metrics):\n",
    "            plts[at + (at_tf * len(metrics))][at2].plot(x, y[m]['1'])\n",
    "            plts[at + (at_tf * len(metrics))][at2].plot(x, y[m]['3'])\n",
    "            plts[at + (at_tf * len(metrics))][at2].plot(x, y[m]['5'])\n",
    "            \n",
    "            if at == len(metrics) - 1 and at_tf == 1:\n",
    "                plts[at + (at_tf * len(metrics))][at2].set_xlabel(\"Epochs\")\n",
    "            \n",
    "            title = \"$\\lambda$ = \" + str(lamda) + \", \" + metrics[at]\n",
    "            if tf == True: title += ', TF-IDF'\n",
    "            plts[at + (at_tf * len(metrics))][at2].set_title(title)\n",
    "\n",
    "            if m == 'Pk': plts[at + (at_tf * len(metrics))][at2].set_ylim(40, 80)\n",
    "            elif m == 'PSPk': plts[at + (at_tf * len(metrics))][at2].set_ylim(20, 50)\n",
    "\n",
    "fig.show()"
   ]
  }
 ],
 "metadata": {
  "kernelspec": {
   "display_name": "Python 3",
   "language": "python",
   "name": "python3"
  },
  "language_info": {
   "codemirror_mode": {
    "name": "ipython",
    "version": 3
   },
   "file_extension": ".py",
   "mimetype": "text/x-python",
   "name": "python",
   "nbconvert_exporter": "python",
   "pygments_lexer": "ipython3",
   "version": "3.7.4"
  }
 },
 "nbformat": 4,
 "nbformat_minor": 2
}
